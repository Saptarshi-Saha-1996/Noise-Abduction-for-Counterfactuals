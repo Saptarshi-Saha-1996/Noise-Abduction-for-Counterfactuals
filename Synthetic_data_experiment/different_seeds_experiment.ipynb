{
 "cells": [
  {
   "cell_type": "markdown",
   "id": "31e30794-43c4-46e4-a9b6-a3921eaec165",
   "metadata": {},
   "source": [
    "# Statistical error anlysis experiment with differnt seeds"
   ]
  },
  {
   "cell_type": "code",
   "execution_count": 1,
   "id": "75ff6381-9ab0-4f26-b590-8f749db524e7",
   "metadata": {},
   "outputs": [],
   "source": [
    "%reset -f\n",
    "%load_ext autoreload\n",
    "%autoreload 2"
   ]
  },
  {
   "cell_type": "code",
   "execution_count": 1,
   "id": "8f2b2bb3-e846-4024-823d-8b90e123b3de",
   "metadata": {},
   "outputs": [],
   "source": [
    "experiment_name='different_seeds_experiment'\n"
   ]
  },
  {
   "cell_type": "code",
   "execution_count": 3,
   "id": "eba30b97-1afc-4c55-afc0-ba5ec0a86baa",
   "metadata": {},
   "outputs": [],
   "source": [
    "import numpy as np\n",
    "import torch\n",
    "import pyro\n",
    "\n",
    "torch.backends.cudnn.deterministic = True\n",
    "torch.backends.cudnn.benchmark = False\n",
    "pyro_seed= 68"
   ]
  },
  {
   "cell_type": "code",
   "execution_count": 4,
   "id": "f6100182",
   "metadata": {},
   "outputs": [],
   "source": [
    "from config import sample_size,epochs\n"
   ]
  },
  {
   "cell_type": "code",
   "execution_count": 5,
   "id": "03cc9b08-8549-4c5f-9701-66a52f59bc6b",
   "metadata": {},
   "outputs": [],
   "source": [
    "#def SCM(epsilon=None,intervention=False, *args):\n",
    "#    X_4=2*epsilon[:,4]+1\n",
    "#    X_6=epsilon[:,6]-1\n",
    "#    if not intervention:\n",
    "#        X_5=3*X_6+epsilon[:,5]-1\n",
    "#    else:\n",
    "#        X_5=np.full(sample_size,args)\n",
    "#    X_2=X_5-epsilon[:,2]\n",
    "#    X_3=-3*X_4+epsilon[:,3]-3\n",
    "#    X_1=X_6-X_5+3*epsilon[:,1]\n",
    "#    Y=X_1+2*X_2-3*X_3+epsilon[:,0]\n",
    "#    return X_6,X_5,X_4,X_3,X_2,X_1,Y\n",
    "\n",
    "from scm import SCM"
   ]
  },
  {
   "cell_type": "code",
   "execution_count": 6,
   "id": "50ea4d13-5fe5-4042-adbb-9675c1a86234",
   "metadata": {},
   "outputs": [],
   "source": [
    "from full_model import conditionalscm\n",
    "from partial_model import conditionalscm_partial"
   ]
  },
  {
   "cell_type": "code",
   "execution_count": null,
   "id": "dc25dcb1-a167-4abf-8c0c-4e442d3073fe",
   "metadata": {},
   "outputs": [],
   "source": []
  },
  {
   "cell_type": "code",
   "execution_count": 7,
   "id": "987d86fe-1ae6-4832-b728-f512f9b62cbe",
   "metadata": {},
   "outputs": [],
   "source": [
    "from train import train_model \n",
    "#from config import save"
   ]
  },
  {
   "cell_type": "code",
   "execution_count": 8,
   "id": "9a0dd216-66ff-4585-b16f-73097f1f8255",
   "metadata": {},
   "outputs": [],
   "source": [
    "#save='logs_2'\n",
    "from infer import do_inference\n",
    "from analysis import error_estimate ,sampling_capabilities, noise_infer_capabilities\n",
    "from analysis import plot_Y_cf\n",
    "from cf_analysis import cf_analysis\n",
    "import pandas as pd\n",
    "from matplotlib import pyplot as plt\n",
    "import seaborn as sns\n",
    "import os"
   ]
  },
  {
   "cell_type": "code",
   "execution_count": 9,
   "id": "76301e49-bc76-4685-81d0-77c499ba5cdf",
   "metadata": {},
   "outputs": [
    {
     "name": "stdout",
     "output_type": "stream",
     "text": [
      "[-17.27048429 -14.45890557  -4.5886872   13.17966083  11.53505554]\n"
     ]
    }
   ],
   "source": [
    "np.random.seed(1729)\n",
    "intervention_set=np.random.uniform(-30,30,200)\n",
    "print(intervention_set)"
   ]
  },
  {
   "cell_type": "code",
   "execution_count": 10,
   "id": "0e491a30-55d7-4c6e-8bf9-7f509df509b5",
   "metadata": {},
   "outputs": [],
   "source": [
    "seeds=[1729, 9, 83,689,251]#,558,12,5692,23, 7]\n",
    "pyro_seed= 68\n",
    "time_full=[]\n",
    "time_partial=[]\n"
   ]
  },
  {
   "cell_type": "code",
   "execution_count": null,
   "id": "937c7a4b-577c-48c0-ad19-eb0237cc431e",
   "metadata": {},
   "outputs": [
    {
     "name": "stdout",
     "output_type": "stream",
     "text": [
      "seed no: 1729 -----------------------------Start\n"
     ]
    },
    {
     "name": "stderr",
     "output_type": "stream",
     "text": [
      "/home/saptarshi/anaconda3/envs/flow-scm/lib/python3.9/site-packages/torch/nn/init.py:403: UserWarning: Initializing zero-element tensors is a no-op\n",
      "  warnings.warn(\"Initializing zero-element tensors is a no-op\")\n"
     ]
    },
    {
     "name": "stdout",
     "output_type": "stream",
     "text": [
      "[[False False False ... False False False]\n",
      " [False False False ... False False False]\n",
      " [False False False ... False False False]\n",
      " ...\n",
      " [False False False ... False False False]\n",
      " [False False False ... False False False]\n",
      " [False False False ... False False False]]\n",
      "seed no: 1729 --------------------------------Completed\n",
      "seed no: 9 -----------------------------Start\n"
     ]
    },
    {
     "name": "stderr",
     "output_type": "stream",
     "text": [
      "/home/saptarshi/anaconda3/envs/flow-scm/lib/python3.9/site-packages/torch/nn/init.py:403: UserWarning: Initializing zero-element tensors is a no-op\n",
      "  warnings.warn(\"Initializing zero-element tensors is a no-op\")\n"
     ]
    }
   ],
   "source": [
    "for seed in seeds:\n",
    "    print(\"seed no:\",seed,'-----------------------------Start')\n",
    "    np.random.seed(seed)\n",
    "    torch.manual_seed(seed)\n",
    "    #pyro.set_rng_seed(pyro_seed)\n",
    "    epsilon=np.random.normal(0,1,(sample_size,7))\n",
    "    X_6,X_5,X_4,X_3,X_2,X_1,Y= SCM(epsilon=epsilon,intervention=False)\n",
    "    Data={'X6':torch.tensor(X_6).reshape(-1,1).float(),'X5':torch.tensor(X_5).reshape(-1,1).float(),'X4':torch.tensor(X_4).reshape(-1,1).float(),'X3':torch.tensor(X_3).reshape(-1,1).float(),'X2':torch.tensor(X_2).reshape(-1,1).float(),'X1':torch.tensor(X_1).reshape(-1,1).float(),'Y':torch.tensor(Y).reshape(-1,1).float()}\n",
    "   \n",
    "    scm=conditionalscm()\n",
    "    scm_partial=conditionalscm_partial()\n",
    "    \n",
    "    pyro.set_rng_seed(pyro_seed)\n",
    "    logs=experiment_name + '/logs/seed_'+str(seed)\n",
    "    if not os.path.exists(logs):\n",
    "        os.makedirs(logs)\n",
    "    \n",
    "    time_fullmodel=train_model(scm,logs,seed=seed,data=Data,print_mode=False)\n",
    "    time_full.append(time_fullmodel)\n",
    "    time_partialmodel=train_model(scm_partial,logs,seed=seed,data=Data,print_mode=False)\n",
    "    time_partial.append(time_partialmodel)\n",
    "    j= 5\n",
    "    intervention='do(X5='+str(j)+')'\n",
    "    X6_cf,X5_cf, X4_cf, X3_cf, X2_cf, X1_cf, Y_cf= SCM(epsilon,True,j)\n",
    "    \n",
    "    #logs='./'+save\n",
    "    SCM_samples,SCM_inferred_noise,SCM_counterfactuals=                       do_inference(scm,intervention,save=logs,data=Data,print_mode=False)\n",
    "    SCM_partial_samples,SCM_partial_inferred_noise,SCM_partial_counterfactuals=do_inference(scm_partial,intervention,save=logs,data=Data,print_mode=False)\n",
    "    \n",
    "    path=experiment_name+'/assets/seed_'+str(seed)\n",
    "    if not os.path.exists(path):\n",
    "        os.makedirs(path)\n",
    "        \n",
    "    path=path+'/'\n",
    "    sampling_capabilities(Data=Data,SCM_samples=SCM_samples,SCM_partial_samples=SCM_partial_samples,path=path)\n",
    "    noise_infer_capabilities(epsilon=epsilon,SCM_partial_inferred_noise=SCM_partial_inferred_noise,SCM_inferred_noise=SCM_inferred_noise,path=path )\n",
    "    plot_Y_cf(Y_cf=Y_cf,j=j,SCM_partial_counterfactuals=SCM_partial_counterfactuals,SCM_counterfactuals=SCM_counterfactuals,path=path)\n",
    "    error_fullmodel,error_partialmodel=cf_analysis(intervention_set=intervention_set,path=logs,data=Data,SCM=SCM,scm=scm,scm_partial=scm_partial,epsilon=epsilon)\n",
    "    \n",
    "    if seed==seeds[0]:\n",
    "        cf_error=pd.DataFrame({'intervention':intervention_set,'error_partial':error_partialmodel,'error_full': error_fullmodel,'seed':seed})\n",
    "    else:\n",
    "        cf_error2=pd.DataFrame({'intervention':intervention_set,'error_partial':error_partialmodel,'error_full': error_fullmodel,'seed':seed})\n",
    "        cf_error=cf_error.append(cf_error2,ignore_index=True)\n",
    "        \n",
    "    np.random.seed(seed+1)\n",
    "    \n",
    "    epsilon_unseen=np.random.normal(0,1,(sample_size,7))\n",
    "    #print(epsilon==epsilon_unseen)\n",
    "    X_6,X_5,X_4,X_3,X_2,X_1,Y= SCM(epsilon_unseen,False)\n",
    "    Data_unseen={'X6':torch.tensor(X_6).reshape(-1,1).float(),'X5':torch.tensor(X_5).reshape(-1,1).float(),'X4':torch.tensor(X_4).reshape(-1,1).float(),'X3':torch.tensor(X_3).reshape(-1,1).float(),'X2':torch.tensor(X_2).reshape(-1,1).float(),'X1':torch.tensor(X_1).reshape(-1,1).float(),'Y':torch.tensor(Y).reshape(-1,1).float()}\n",
    "    unseenerror_fullmodel,unseenerror_partialmodel=cf_analysis(intervention_set=intervention_set,data=Data_unseen,path=logs,SCM=SCM,scm=scm,scm_partial=scm_partial,epsilon=epsilon_unseen)\n",
    "    if seed==seeds[0]:\n",
    "        unseen_cf_error=pd.DataFrame({'intervention':intervention_set,'error_partial':unseenerror_partialmodel,'error_full': unseenerror_fullmodel,'seed':seed})\n",
    "    else:\n",
    "        unseen_cf_error2=pd.DataFrame({'intervention':intervention_set,'error_partial':unseenerror_partialmodel,'error_full': unseenerror_fullmodel,'seed':seed})\n",
    "        unseen_cf_error=unseen_cf_error.append(unseen_cf_error2,ignore_index=True)\n",
    "    \n",
    "        \n",
    "    \n",
    "    \n",
    "    print(\"seed no:\",seed,'--------------------------------Completed')"
   ]
  },
  {
   "cell_type": "code",
   "execution_count": null,
   "id": "0729f3f3-9599-44dc-9edc-8f9e85d45285",
   "metadata": {},
   "outputs": [],
   "source": []
  },
  {
   "cell_type": "code",
   "execution_count": null,
   "id": "1fd69db6-2d49-46f4-82aa-56b63c079f40",
   "metadata": {},
   "outputs": [],
   "source": [
    "training_time=pd.DataFrame({'full_model':time_full,'partial_model':time_partial,'seed':seeds})\n",
    "filepath=experiment_name+'/training_time.csv'\n",
    "training_time.to_csv(filepath)\n",
    "training_time"
   ]
  },
  {
   "cell_type": "code",
   "execution_count": null,
   "id": "bbec7b34-abf0-4114-aa49-ca6c98effce6",
   "metadata": {},
   "outputs": [],
   "source": [
    "#print(cf_error)\n",
    "filepath_=experiment_name+'/cf_error.csv'\n",
    "cf_error.to_csv(filepath_)\n",
    "cf_error"
   ]
  },
  {
   "cell_type": "code",
   "execution_count": null,
   "id": "9a30372a-0f83-49f9-83dd-74635210507e",
   "metadata": {},
   "outputs": [],
   "source": [
    "from matplotlib import pyplot as plt\n",
    "import seaborn as sns\n",
    "\n",
    "#sns.set_style('darkgrid')\n",
    "fig, ax = plt.subplots(figsize=(8, 4))\n",
    "#plt.scatter(intervention_set,np.exp(np.array(error_partial)),label='partial model',color='black',ls='-',marker='o')\n",
    "#plt.scatter(intervention_set,np.exp(np.array(error_full)),label='full model',color='yellow',ls='--',marker='*')\n",
    "sns.lineplot(data=cf_error,x='intervention',y='error_partial',label='partial model',color='black',marker='o',alpha=0.5,ci='sd')\n",
    "sns.lineplot(data=cf_error,x='intervention',y='error_full',label='full model',color='green',marker='.',alpha=0.5,ci='sd')\n",
    "\n",
    "plt.xlabel(r'Intervention value on $X_{5}$ ',fontweight='bold')\n",
    "plt.ylabel('mean squared error',fontweight='bold')\n",
    "plt.legend()\n",
    "fig.savefig(experiment_name+'/counterfactual_errors.pdf',format='pdf',pad_inches=0.1,bbox_inches='tight',dpi=1200)"
   ]
  },
  {
   "cell_type": "code",
   "execution_count": null,
   "id": "5f4ec37a-154b-40ca-9f74-e59904ee693c",
   "metadata": {},
   "outputs": [],
   "source": [
    "filepath_=experiment_name+'/unseen_cf_error.csv'\n",
    "unseen_cf_error.to_csv(filepath_)\n",
    "unseen_cf_error"
   ]
  },
  {
   "cell_type": "code",
   "execution_count": null,
   "id": "2d91fd8f-8eb7-497f-a12b-7381ee6ee10b",
   "metadata": {},
   "outputs": [],
   "source": [
    "from matplotlib import pyplot as plt\n",
    "import seaborn as sns\n",
    "\n",
    "#sns.set_style('darkgrid')\n",
    "fig, ax = plt.subplots(figsize=(8, 4))\n",
    "#plt.scatter(intervention_set,np.exp(np.array(error_partial)),label='partial model',color='black',ls='-',marker='o')\n",
    "#plt.scatter(intervention_set,np.exp(np.array(error_full)),label='full model',color='yellow',ls='--',marker='*')\n",
    "sns.lineplot(data=unseen_cf_error,x='intervention',y='error_partial',label='partial model',color='black',marker='o',alpha=0.5,ci='sd')\n",
    "sns.lineplot(data=unseen_cf_error,x='intervention',y='error_full',label='full model',color='green',marker='.',alpha=0.5,ci='sd')\n",
    "\n",
    "plt.xlabel(r'Intervention value on $X_{5}$ ',fontweight='bold')\n",
    "plt.ylabel('mean squared error',fontweight='bold')\n",
    "plt.legend()\n",
    "fig.savefig(experiment_name+'/counterfactual_unseen_errors.pdf',format='pdf',pad_inches=0.1,bbox_inches='tight',dpi=1200)"
   ]
  },
  {
   "cell_type": "markdown",
   "id": "dad67d5d",
   "metadata": {},
   "source": [
    "### Training time analysis"
   ]
  },
  {
   "cell_type": "code",
   "execution_count": 15,
   "id": "0069372c",
   "metadata": {},
   "outputs": [
    {
     "name": "stdout",
     "output_type": "stream",
     "text": [
      "Training time: \n",
      " mean:\n",
      " full_model       11.223543\n",
      "partial_model     6.462231\n",
      "dtype: float64\n",
      "std:\n",
      " full_model       0.081942\n",
      "partial_model    0.033946\n",
      "dtype: float64\n"
     ]
    }
   ],
   "source": [
    "import pandas as pd \n",
    "training_time=pd.read_csv(experiment_name+'/training_time.csv')\n",
    "training_time=training_time.drop('Unnamed: 0',axis=1)\n",
    "print('Training time: \\n mean:\\n',training_time[['full_model','partial_model']].mean())\n",
    "print('std:\\n',training_time[['full_model','partial_model']].std())"
   ]
  }
 ],
 "metadata": {
  "kernelspec": {
   "display_name": "Python 3 (ipykernel)",
   "language": "python",
   "name": "python3"
  },
  "language_info": {
   "codemirror_mode": {
    "name": "ipython",
    "version": 3
   },
   "file_extension": ".py",
   "mimetype": "text/x-python",
   "name": "python",
   "nbconvert_exporter": "python",
   "pygments_lexer": "ipython3",
   "version": "3.9.7"
  },
  "vscode": {
   "interpreter": {
    "hash": "8036ffe38d8fad1f1821418199c7d8ff7dc7c0709d2fcb91e441ecd0bc665b90"
   }
  }
 },
 "nbformat": 4,
 "nbformat_minor": 5
}
