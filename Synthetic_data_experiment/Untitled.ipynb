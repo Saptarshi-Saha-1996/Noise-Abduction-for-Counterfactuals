{
 "cells": [
  {
   "cell_type": "code",
   "execution_count": 1,
   "id": "4f3e0e50-9b68-4b89-90f5-bfd3178e2676",
   "metadata": {},
   "outputs": [],
   "source": [
    "%reset -f\n",
    "%load_ext autoreload\n",
    "%autoreload 2"
   ]
  },
  {
   "cell_type": "markdown",
   "id": "5416fa81-c883-4ac3-8f34-eed816fca7d4",
   "metadata": {},
   "source": [
    "### Training time experiment with batch size and sample size"
   ]
  },
  {
   "cell_type": "code",
   "execution_count": 12,
   "id": "079b2aa2-6543-4c34-9729-786853f6f04b",
   "metadata": {},
   "outputs": [],
   "source": [
    "experiment_name='sample_size_vs_train_time'"
   ]
  },
  {
   "cell_type": "code",
   "execution_count": 13,
   "id": "8b45ecf8-0156-49c6-a127-96256c9208b9",
   "metadata": {},
   "outputs": [],
   "source": [
    "import numpy as np\n",
    "import torch\n",
    "import pyro\n",
    "\n",
    "torch.backends.cudnn.deterministic = True\n",
    "torch.backends.cudnn.benchmark = False\n",
    "pyro_seed= 68\n",
    "seed=1729"
   ]
  },
  {
   "cell_type": "code",
   "execution_count": 14,
   "id": "150ce197-1ba6-496b-8516-3f35d2d3ab5a",
   "metadata": {},
   "outputs": [],
   "source": [
    "from scm import SCM \n",
    "from full_model import conditionalscm\n",
    "from partial_model import conditionalscm_partial"
   ]
  },
  {
   "cell_type": "code",
   "execution_count": 15,
   "id": "7dd9454a-ff90-495c-b746-0d79a6b8c687",
   "metadata": {},
   "outputs": [],
   "source": [
    "sample_sizes=[256,1024,4096,16384,32768 ]        #,5000,10000,20000,50000]\n",
    "batch_sizes=[32,64,128,256]"
   ]
  },
  {
   "cell_type": "markdown",
   "id": "d6a9acae-38bd-4355-a6b9-41375e84f470",
   "metadata": {},
   "source": [
    " We modify the trianing function here . We don't save training logs for this experiment."
   ]
  },
  {
   "cell_type": "code",
   "execution_count": 16,
   "id": "aa5533c3-e4eb-47d9-a891-265af9b00ca9",
   "metadata": {},
   "outputs": [],
   "source": [
    "import os\n",
    "import time\n",
    "import torch\n",
    "import shutil\n",
    "import torch.optim as optim\n",
    "import torch.nn.functional as F\n",
    "import numpy as np\n",
    "from utils import mkdir\n",
    "\n",
    "from data import get_features_dataset \n",
    "#from config import *\n",
    "\n",
    "NUM_WORKERS=12\n",
    "\n",
    "def milestone_step( optimizer, epoch):\n",
    "    if epoch in [epochs*0.5, epochs*0.75]:\n",
    "        for param_group in optimizer.param_groups:\n",
    "            param_group['lr'] *= 0.1\n",
    "\n",
    "\n",
    "#def save_checkpoint(state, is_best, filepath):\n",
    "#    mkdir(filepath)\n",
    "#    torch.save(state, os.path.join(filepath, 'flow_ckpt.pth.tar'))\n",
    "#    if is_best:\n",
    "#        shutil.copyfile(os.path.join(filepath, 'flow_ckpt.pth.tar'), os.path.join(filepath, 'flow_best.pth.tar'))\n",
    "        #print('best is saved')\n",
    "#---------------------------------------------------------------------------------------------------------------\n",
    "\n",
    "\n",
    "def train( model, optimizer, train_loader, epoch, print_mode=True):\n",
    "    avg_loss = 0.\n",
    "    for batch_idx, (X6,X5,X4,X3, X2, X1,Y) in enumerate(train_loader):\n",
    "        X6, X5, X4, X3, X2, X1,Y = X6.reshape([-1,1]), X5.reshape([-1,1]), X4.reshape([-1,1]), X3.reshape([-1,1]), X2.reshape([-1,1]), X1.reshape([-1,1]), Y.reshape([-1,1]) \n",
    "        optimizer.zero_grad()\n",
    "        log_p = model(X6, X5, X4, X3 ,X2, X1,Y)\n",
    "        loss = -torch.mean(log_p['X_6']+log_p['X_5']+log_p['X_4']+log_p['X_3']+log_p['X_2']+log_p['X_1'] +log_p['Y'])\n",
    "        avg_loss += loss.item()\n",
    "        loss.backward()\n",
    "        optimizer.step()\n",
    "        model.clear()\n",
    "\n",
    "    avg_loss /= -len(train_loader)\n",
    "    #if epoch % log_interval ==0 and print_mode==True:\n",
    "        #print('Epoch:',epoch,'\\nTrain set: Average LogProb: {:.6f}\\n'.format(avg_loss))\n",
    "    \n",
    "            \n",
    "            \n",
    "\n",
    "def test(model, test_loader):\n",
    "    test_loss = 0.\n",
    "    model.eval()\n",
    "    associative_power ={'X_6':0,'X_5':0,'X_4':0,'X_3':0,'X_2':0,'X_1':0,'Y':0}\n",
    "    for X6, X5, X4, X3, X2, X1,Y in test_loader:\n",
    "        with torch.no_grad():\n",
    "            X6, X5, X4, X3, X2, X1,Y = X6.reshape([-1,1]), X5.reshape([-1,1]), X4.reshape([-1,1]), X3.reshape([-1,1]), X2.reshape([-1,1]), X1.reshape([-1,1]), Y.reshape([-1,1]) \n",
    "            log_p = model(X6, X5, X4, X3 ,X2, X1,Y)\n",
    "            test_loss += torch.mean(log_p['X_6']+log_p['X_5']+log_p['X_4']+log_p['X_3']+log_p['X_2']+log_p['X_1'] +log_p['Y'])\n",
    "            for k,v in log_p.items():\n",
    "                associative_power[k]+=torch.mean(v)\n",
    "                #print(k,v)\n",
    "                \n",
    "                \n",
    "    #print('length',len(test_loader))            \n",
    "    test_loss /= len(test_loader)   #len(test_loader.dataset)\n",
    "    associative_power=dict(associative_power) \n",
    "    associative_power={k: v/len(test_loader) for k,v in associative_power.items()}\n",
    "\n",
    "    return test_loss, associative_power\n",
    "\n",
    "\n",
    "\n",
    "def main(model_name,filepath=None,seed=None,data=None,print_mode=True,batch_size=None):\n",
    "    kwargs =  {}\n",
    "    dataset_train, dataset_test = get_features_dataset(data=data, dim=1,random_seed=seed,sample_size=sample_size)\n",
    "    np.random.seed(seed)\n",
    "    train_loader = torch.utils.data.DataLoader(dataset_train, batch_size=batch_size, shuffle=True, **kwargs)\n",
    "    test_loader = torch.utils.data.DataLoader(dataset_test, batch_size=batch_size, shuffle=False, **kwargs)\n",
    "\n",
    "    model = model_name\n",
    " \n",
    "    optimizer = optim.Adam(model.parameters(), lr=lr, weight_decay=weight_decay)\n",
    "    #scheduler = optim.lr_scheduler.CosineAnnealingLR(optimizer, epochs, 0)\n",
    "    #scheduler = optim.lr_scheduler.ReduceLROnPlateau(optimizer, 'min') \n",
    "\n",
    "    best_loss = -500.\n",
    "    start_time = time.time()\n",
    "    for epoch in range(epochs):      \n",
    "        train( model, optimizer, train_loader, epoch,print_mode=print_mode)\n",
    "        loss,ass_power = test(model, test_loader)\n",
    "        if epoch%log_interval==0 and print_mode==True:\n",
    "            print('\\nTest set: Average LogProb: {:.6f}\\n'.format(loss))\n",
    "        if not lr_annealing:\n",
    "            milestone_step(optimizer, epoch)\n",
    "        #else:\n",
    "            #scheduler.step() #loss)\n",
    "        \n",
    "        is_best = loss > best_loss\n",
    "        best_loss = max(loss, best_loss)\n",
    "        #save_checkpoint({\n",
    "         #   'epoch': epoch + 1,\n",
    "         #   'state_dict': model.state_dict(),\n",
    "         #   'best_loss': best_loss,\n",
    "          #  'optimizer': optimizer.state_dict(),\n",
    "          #  'associative power':ass_power\n",
    "        #}, is_best, filepath=filepath)\n",
    "\n",
    "    time_=(time.time()-start_time)/60.\n",
    "    \n",
    "    del model\n",
    "    \n",
    "    #if print_mode:\n",
    "     #   print('==> Best LogProb: {:.6f}, Time: {:.2f} min\\n'.format(best_loss,time_ ))\n",
    "    return time_\n",
    "    \n",
    "\n",
    "    \n",
    "def train_model(model,path=None,data=None,seed=None,print_mode=False,batch_size=None):\n",
    "    #mkdir(path)\n",
    "    #path = os.path.join(path, str(model.__class__.__name__))\n",
    "    #mkdir(path)\n",
    "    #filepath=path\n",
    "    time=main(model,filepath=None,seed=seed,batch_size=batch_size,data=data,print_mode=print_mode)\n",
    "    return time\n",
    "    \n",
    "    "
   ]
  },
  {
   "cell_type": "code",
   "execution_count": 17,
   "id": "e5cea5db-ca85-4db6-9160-a5aceed3a03b",
   "metadata": {},
   "outputs": [],
   "source": [
    "import pandas as pd\n",
    "from config import lr,weight_decay,epochs,log_interval,lr_annealing"
   ]
  },
  {
   "cell_type": "code",
   "execution_count": 18,
   "id": "a1d10e27-815e-43e6-981c-b9a5a7977a12",
   "metadata": {},
   "outputs": [
    {
     "name": "stderr",
     "output_type": "stream",
     "text": [
      "/home/saptarshi/anaconda3/envs/flow-scm/lib/python3.9/site-packages/torch/nn/init.py:403: UserWarning: Initializing zero-element tensors is a no-op\n",
      "  warnings.warn(\"Initializing zero-element tensors is a no-op\")\n"
     ]
    },
    {
     "name": "stdout",
     "output_type": "stream",
     "text": [
      "0.29141810337702434\n",
      "0.16054733991622924\n",
      "Done:  ------batch_size 64 -----sample_size 256\n",
      "0.23350773255030313\n",
      "0.10365468660990397\n",
      "Done:  ------batch_size 128 -----sample_size 256\n",
      "0.24412522315979004\n",
      "0.07427648703257243\n",
      "Done:  ------batch_size 256 -----sample_size 256\n",
      "0.9997735977172851\n",
      "0.5655565937360127\n",
      "Done:  ------batch_size 64 -----sample_size 1024\n",
      "0.6132550438245138\n",
      "0.3500522255897522\n",
      "Done:  ------batch_size 128 -----sample_size 1024\n",
      "0.7858991463979085\n",
      "0.3681809743245443\n",
      "Done:  ------batch_size 256 -----sample_size 1024\n",
      "6.145957012971242\n",
      "3.3670801877975465\n",
      "Done:  ------batch_size 64 -----sample_size 4096\n",
      "3.548505926132202\n",
      "2.007082947095235\n",
      "Done:  ------batch_size 128 -----sample_size 4096\n",
      "2.1800522724787395\n",
      "1.497062349319458\n",
      "Done:  ------batch_size 256 -----sample_size 4096\n"
     ]
    }
   ],
   "source": [
    "for sample_size in sample_sizes:\n",
    "    for batch_size in batch_sizes:\n",
    "        np.random.seed(seed)\n",
    "        epsilon=np.random.normal(0,1,(sample_size,7))\n",
    "        X_6,X_5,X_4,X_3,X_2,X_1,Y=SCM(epsilon,intervention=False)\n",
    "        Data={'X6':torch.tensor(X_6).reshape(-1,1).float(),'X5':torch.tensor(X_5).reshape(-1,1).float(),'X4':torch.tensor(X_4).reshape(-1,1).float(),'X3':torch.tensor(X_3).reshape(-1,1).float(),'X2':torch.tensor(X_2).reshape(-1,1).float(),'X1':torch.tensor(X_1).reshape(-1,1).float(),'Y':torch.tensor(Y).reshape(-1,1).float()}\n",
    "        torch.manual_seed(seed)\n",
    "        pyro.set_rng_seed(pyro_seed)\n",
    "        \n",
    "        scm=conditionalscm()\n",
    "        scm_partial=conditionalscm_partial()\n",
    "        \n",
    "        time_fullmodel=train_model(scm,None,seed=seed,data=Data,print_mode=False,batch_size=batch_size)\n",
    "        time_partialmodel=train_model(scm_partial,None,seed=seed,data=Data,print_mode=False,batch_size=batch_size)\n",
    "        print(time_fullmodel)\n",
    "        print(time_partialmodel)\n",
    "        if sample_size==sample_sizes[0] and batch_size==batch_sizes[0]:\n",
    "            time_train=pd.DataFrame({'time_partial':time_partialmodel,'time_full': time_fullmodel,'sample_size':sample_size,'batch_size':batch_size},index=[0])\n",
    "        else :\n",
    "            time2=pd.DataFrame({'time_partial':time_partialmodel,'time_full': time_fullmodel,'sample_size':sample_size,'batch_size':batch_size},index=[0])\n",
    "            time_train=time_train.append(time2,ignore_index=True)\n",
    "\n",
    "        print(\"Done:\",' ------batch_size',batch_size,'-----sample_size',sample_size)"
   ]
  },
  {
   "cell_type": "code",
   "execution_count": 40,
   "id": "5b72f69e-7b04-479c-ba28-14e7f4f6aa35",
   "metadata": {},
   "outputs": [],
   "source": [
    "import os\n",
    "if not os.path.exists(experiment_name):\n",
    "        os.makedirs(experiment_name)\n",
    "time_train.to_csv(experiment_name+'training_time.csv')"
   ]
  },
  {
   "cell_type": "code",
   "execution_count": 41,
   "id": "9946f95f-bc36-472a-9726-45a17efa4e4e",
   "metadata": {},
   "outputs": [
    {
     "data": {
      "text/plain": [
       "<matplotlib.legend.Legend at 0x7f078f725f10>"
      ]
     },
     "execution_count": 41,
     "metadata": {},
     "output_type": "execute_result"
    },
    {
     "data": {
      "image/png": "[encoded data removed]",
      "text/plain": [
       "<Figure size 576x288 with 1 Axes>"
      ]
     },
     "metadata": {
      "needs_background": "light"
     },
     "output_type": "display_data"
    }
   ],
   "source": [
    "from matplotlib import pyplot as plt\n",
    "import seaborn as sns\n",
    "\n",
    "#sns.set_style('darkgrid')\n",
    "fig, ax = plt.subplots(figsize=(8, 4))\n",
    "#plt.scatter(intervention_set,np.exp(np.array(error_partial)),label='partial model',color='black',ls='-',marker='o')\n",
    "#plt.scatter(intervention_set,np.exp(np.array(error_full)),label='full model',color='yellow',ls='--',marker='*')\n",
    "sns.lineplot(data=time_train,x='sample_size',y='time_partial',label='partial model',color='black',marker='o',alpha=0.5,palette=\"flare\")\n",
    "sns.lineplot(data=time_train,x='sample_size',y='time_full',label='full model',color='green',marker='o',alpha=0.5,palette=\"flare\")\n",
    "\n",
    "plt.xlabel('sample size ',fontweight='bold')\n",
    "plt.ylabel('training time',fontweight='bold')\n",
    "plt.legend()\n",
    "#fig.savefig(experiment_name+'/counterfactual_errors.pdf',format='pdf',pad_inches=0.1,bbox_inches='tight',dpi=1200)"
   ]
  },
  {
   "cell_type": "code",
   "execution_count": null,
   "id": "942f9d22-5457-4b60-bcda-87c2f7d05b6e",
   "metadata": {},
   "outputs": [],
   "source": [
    "sns.relplot(\n",
    "    data=time_train,\n",
    "    x=\"sample_size\", y=\"firing_rate\",\n",
    "    hue=\"coherence\", size=\"choice\", col=\"align\",\n",
    "    kind=\"line\", size_order=[\"T1\", \"T2\"], palette=palette,\n",
    "    height=5, aspect=.75, facet_kws=dict(sharex=False),\n",
    ")"
   ]
  }
 ],
 "metadata": {
  "kernelspec": {
   "display_name": "Python 3 (ipykernel)",
   "language": "python",
   "name": "python3"
  },
  "language_info": {
   "codemirror_mode": {
    "name": "ipython",
    "version": 3
   },
   "file_extension": ".py",
   "mimetype": "text/x-python",
   "name": "python",
   "nbconvert_exporter": "python",
   "pygments_lexer": "ipython3",
   "version": "3.9.7"
  }
 },
 "nbformat": 4,
 "nbformat_minor": 5
}
