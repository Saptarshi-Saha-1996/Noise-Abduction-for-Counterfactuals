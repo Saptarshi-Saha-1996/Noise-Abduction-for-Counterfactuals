{
 "cells": [
  {
   "cell_type": "code",
   "execution_count": null,
   "id": "b66e33fb-bed6-4aa3-964e-ba7365ae8988",
   "metadata": {},
   "outputs": [],
   "source": [
    "%reset -f\n",
    "%load_ext autoreload\n",
    "%autoreload 2"
   ]
  },
  {
   "cell_type": "code",
   "execution_count": null,
   "id": "ce33ba0a-82c5-445f-8e2f-9b0a5990f024",
   "metadata": {},
   "outputs": [],
   "source": [
    "!python train.py --batch-size 64 --gpu-id 0 --epochs 300 \\\n",
    "  --data-filename 'german_credit_data.csv'\\\n",
    "  --dim 1 \\\n",
    "  --flow-type 'autoregressive'\\\n",
    "  --flow-order 'linear'\\\n",
    "  --arch 'conditionalscm' #\\\n",
    "#  --data-seed 369\\\n",
    "#  --seed 369"
   ]
  },
  {
   "cell_type": "code",
   "execution_count": 1,
   "id": "fd19dc0c-4e08-4d3f-9811-124111aada39",
   "metadata": {},
   "outputs": [
    {
     "name": "stdout",
     "output_type": "stream",
     "text": [
      "==> start preprocessing csv ...\n",
      "==> finished preprocessing csv ...\n",
      "/home/saptarshi/anaconda3/envs/flow-scm/lib/python3.9/site-packages/pyro/nn/auto_reg_nn.py:179: UserWarning: ConditionalAutoRegressiveNN input_dim = 1. Consider using an affine transformation instead.\n",
      "  warnings.warn(\n",
      "./logs/conditionalscm_flowtype_autoregressive_floworder_quadratic/flow_best.pth.tar\n",
      "==> Best LogProb: -0.708113\n",
      "\n",
      "Inference: [0/1000 (0.0%)]\tCondition: do(sex=Male)\n",
      "Inference: [64/1000 (6.2%)]\tCondition: do(sex=Male)\n",
      "Inference: [128/1000 (12.5%)]\tCondition: do(sex=Male)\n",
      "Inference: [192/1000 (18.8%)]\tCondition: do(sex=Male)\n",
      "Inference: [256/1000 (25.0%)]\tCondition: do(sex=Male)\n",
      "Inference: [320/1000 (31.2%)]\tCondition: do(sex=Male)\n",
      "Inference: [384/1000 (37.5%)]\tCondition: do(sex=Male)\n",
      "Inference: [448/1000 (43.8%)]\tCondition: do(sex=Male)\n",
      "Inference: [512/1000 (50.0%)]\tCondition: do(sex=Male)\n",
      "Inference: [576/1000 (56.2%)]\tCondition: do(sex=Male)\n",
      "Inference: [640/1000 (62.5%)]\tCondition: do(sex=Male)\n",
      "Inference: [704/1000 (68.8%)]\tCondition: do(sex=Male)\n",
      "Inference: [768/1000 (75.0%)]\tCondition: do(sex=Male)\n",
      "Inference: [832/1000 (81.2%)]\tCondition: do(sex=Male)\n",
      "Inference: [896/1000 (87.5%)]\tCondition: do(sex=Male)\n",
      "Inference: [600/1000 (93.8%)]\tCondition: do(sex=Male)\n",
      "\n",
      "=> Conterfactuals has been stored at conditionalscm_flowtype_autoregressive_floworder_quadratic_do_sex_Male.csv.\n"
     ]
    }
   ],
   "source": [
    "!python infer.py --batch-size 64 --gpu-id 0 \\\n",
    "  --data-filename 'german_credit_data.csv'\\\n",
    "  --dim 1 \\\n",
    "  --flow-type 'autoregressive'  \\\n",
    "  --flow-order 'quadratic'\\\n",
    "  --condition 'do(sex=Male)'\\\n",
    "  --arch 'conditionalscm' #\\\n",
    "  #--data-seed 369\\\n",
    " # --seed 369"
   ]
  },
  {
   "cell_type": "code",
   "execution_count": 5,
   "id": "f48b951d-895e-4d56-b8b1-ccfa38d26725",
   "metadata": {},
   "outputs": [
    {
     "name": "stdout",
     "output_type": "stream",
     "text": [
      "==> start preprocessing csv ...\n",
      "==> finished preprocessing csv ...\n",
      "/home/saptarshi/anaconda3/envs/flow-scm/lib/python3.9/site-packages/pyro/nn/auto_reg_nn.py:179: UserWarning: ConditionalAutoRegressiveNN input_dim = 1. Consider using an affine transformation instead.\n",
      "  warnings.warn(\n",
      "./logs/conditionalscm_flowtype_autoregressive_floworder_linear/flow_best.pth.tar\n",
      "==> Best LogProb: -0.608513\n",
      "\n",
      "Inference: [0/1000 (0.0%)]\tCondition: do(sex=Female)\n",
      "Inference: [64/1000 (6.2%)]\tCondition: do(sex=Female)\n",
      "Inference: [128/1000 (12.5%)]\tCondition: do(sex=Female)\n",
      "Inference: [192/1000 (18.8%)]\tCondition: do(sex=Female)\n",
      "Inference: [256/1000 (25.0%)]\tCondition: do(sex=Female)\n",
      "Inference: [320/1000 (31.2%)]\tCondition: do(sex=Female)\n",
      "Inference: [384/1000 (37.5%)]\tCondition: do(sex=Female)\n",
      "Inference: [448/1000 (43.8%)]\tCondition: do(sex=Female)\n",
      "Inference: [512/1000 (50.0%)]\tCondition: do(sex=Female)\n",
      "Inference: [576/1000 (56.2%)]\tCondition: do(sex=Female)\n",
      "Inference: [640/1000 (62.5%)]\tCondition: do(sex=Female)\n",
      "Inference: [704/1000 (68.8%)]\tCondition: do(sex=Female)\n",
      "Inference: [768/1000 (75.0%)]\tCondition: do(sex=Female)\n",
      "Inference: [832/1000 (81.2%)]\tCondition: do(sex=Female)\n",
      "Inference: [896/1000 (87.5%)]\tCondition: do(sex=Female)\n",
      "Inference: [600/1000 (93.8%)]\tCondition: do(sex=Female)\n",
      "\n",
      "=> Conterfactuals has been stored at conditionalscm_flowtype_autoregressive_floworder_linear_do_sex_Female.csv.\n"
     ]
    }
   ],
   "source": [
    "!python infer.py --batch-size 64 --gpu-id 0 \\\n",
    "  --data-filename 'german_credit_data.csv'\\\n",
    "  --dim 1 \\\n",
    "  --flow-type  'autoregressive' \\\n",
    "  --flow-order 'linear'\\\n",
    "  --condition 'do(sex=Female)'\\\n",
    "  --arch 'conditionalscm' #\\\n",
    " # --data-seed 369\\\n",
    " # --seed 369"
   ]
  }
 ],
 "metadata": {
  "kernelspec": {
   "display_name": "Python 3 (ipykernel)",
   "language": "python",
   "name": "python3"
  },
  "language_info": {
   "codemirror_mode": {
    "name": "ipython",
    "version": 3
   },
   "file_extension": ".py",
   "mimetype": "text/x-python",
   "name": "python",
   "nbconvert_exporter": "python",
   "pygments_lexer": "ipython3",
   "version": "3.9.7"
  }
 },
 "nbformat": 4,
 "nbformat_minor": 5
}
