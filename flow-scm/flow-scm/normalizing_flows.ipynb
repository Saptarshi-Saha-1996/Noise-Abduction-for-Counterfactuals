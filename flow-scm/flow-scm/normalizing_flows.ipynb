{
 "cells": [
  {
   "cell_type": "code",
   "execution_count": null,
   "metadata": {},
   "outputs": [],
   "source": [
    "---\n",
    "# Noramlizng Flows"
   ]
  },
  {
   "cell_type": "code",
   "execution_count": 7,
   "metadata": {},
   "outputs": [
    {
     "name": "stdout",
     "output_type": "stream",
     "text": [
      "{'M': 'Male', 'F': 'Female'}\n"
     ]
    }
   ],
   "source": [
    "X={\"M\":\"Male\",\"F\":\"Female\"}\n",
    "print(X)"
   ]
  }
 ],
 "metadata": {
  "interpreter": {
   "hash": "8036ffe38d8fad1f1821418199c7d8ff7dc7c0709d2fcb91e441ecd0bc665b90"
  },
  "kernelspec": {
   "display_name": "Python 3 (ipykernel)",
   "language": "python",
   "name": "python3"
  },
  "language_info": {
   "codemirror_mode": {
    "name": "ipython",
    "version": 3
   },
   "file_extension": ".py",
   "mimetype": "text/x-python",
   "name": "python",
   "nbconvert_exporter": "python",
   "pygments_lexer": "ipython3",
   "version": "3.9.7"
  }
 },
 "nbformat": 4,
 "nbformat_minor": 4
}
