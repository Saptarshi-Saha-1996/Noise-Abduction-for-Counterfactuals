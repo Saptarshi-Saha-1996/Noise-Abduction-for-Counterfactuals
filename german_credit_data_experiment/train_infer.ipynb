{
 "cells": [
  {
   "cell_type": "code",
   "execution_count": 127,
   "id": "b66e33fb-bed6-4aa3-964e-ba7365ae8988",
   "metadata": {},
   "outputs": [
    {
     "name": "stdout",
     "output_type": "stream",
     "text": [
      "The autoreload extension is already loaded. To reload it, use:\n",
      "  %reload_ext autoreload\n"
     ]
    }
   ],
   "source": [
    "%reset -f\n",
    "%load_ext autoreload\n",
    "%autoreload 2"
   ]
  },
  {
   "cell_type": "code",
   "execution_count": 128,
   "id": "15f8001f-c0bc-4f06-bf88-45458930e762",
   "metadata": {},
   "outputs": [],
   "source": [
    "seed= 1729                                                   #Ramanujan Number          \n",
    "pyro_seed= 68 \n",
    "\n",
    "import numpy as np\n",
    "import torch\n",
    "import pyro\n",
    "\n",
    "np.random.seed(seed)\n",
    "torch.manual_seed(seed)\n",
    "pyro.set_rng_seed(pyro_seed)\n",
    "torch.backends.cudnn.deterministic = True\n",
    "torch.backends.cudnn.benchmark = False"
   ]
  },
  {
   "cell_type": "markdown",
   "id": "9f04339d-c4f7-432e-acca-cdf428887945",
   "metadata": {},
   "source": [
    "## Training "
   ]
  },
  {
   "cell_type": "code",
   "execution_count": 76,
   "id": "ce33ba0a-82c5-445f-8e2f-9b0a5990f024",
   "metadata": {},
   "outputs": [
    {
     "name": "stdout",
     "output_type": "stream",
     "text": [
      "/home/saptarshi/anaconda3/envs/flow-scm/lib/python3.9/site-packages/pyro/nn/auto_reg_nn.py:179: UserWarning: ConditionalAutoRegressiveNN input_dim = 1. Consider using an affine transformation instead.\n",
      "  warnings.warn(\n"
     ]
    }
   ],
   "source": [
    "!python train.py --batch-size 64 --gpu-id 0 --epochs 500\\\n",
    "  --data-filename 'german_credit_data.csv'\\\n",
    "  --dim 1 \\\n",
    "  --flow-type 'autoregressive'\\\n",
    "  --flow-order 'linear'\\\n",
    "  --arch 'conditionalscm_path'\\\n",
    "  --data-seed 42\\\n",
    "  --seed 68 >> training.txt"
   ]
  },
  {
   "cell_type": "markdown",
   "id": "d2e34bc7-950f-472d-a51b-5d685501b31e",
   "metadata": {},
   "source": [
    "## Inference"
   ]
  },
  {
   "cell_type": "code",
   "execution_count": 129,
   "id": "fd19dc0c-4e08-4d3f-9811-124111aada39",
   "metadata": {},
   "outputs": [
    {
     "name": "stdout",
     "output_type": "stream",
     "text": [
      "/home/saptarshi/anaconda3/envs/flow-scm/lib/python3.9/site-packages/pyro/nn/auto_reg_nn.py:179: UserWarning: ConditionalAutoRegressiveNN input_dim = 1. Consider using an affine transformation instead.\n",
      "  warnings.warn(\n"
     ]
    }
   ],
   "source": [
    "!python infer.py --batch-size 64 --gpu-id 0 \\\n",
    "  --data-filename 'german_credit_data.csv'\\\n",
    "  --dim 1 \\\n",
    "  --flow-type  'autoregressive' \\\n",
    "  --flow-order 'linear'\\\n",
    "  --condition 'do(sex=Male)'\\\n",
    "  --arch 'conditionalscm_path' \\\n",
    "  --data-seed 42\\\n",
    "  --seed 68 >> inference.txt"
   ]
  },
  {
   "cell_type": "code",
   "execution_count": 130,
   "id": "f48b951d-895e-4d56-b8b1-ccfa38d26725",
   "metadata": {},
   "outputs": [
    {
     "name": "stdout",
     "output_type": "stream",
     "text": [
      "/home/saptarshi/anaconda3/envs/flow-scm/lib/python3.9/site-packages/pyro/nn/auto_reg_nn.py:179: UserWarning: ConditionalAutoRegressiveNN input_dim = 1. Consider using an affine transformation instead.\n",
      "  warnings.warn(\n"
     ]
    }
   ],
   "source": [
    "!python infer.py --batch-size 64 --gpu-id 0 \\\n",
    "  --data-filename 'german_credit_data.csv'\\\n",
    "  --dim 1 \\\n",
    "  --flow-type  'autoregressive' \\\n",
    "  --flow-order 'linear'\\\n",
    "  --condition 'do(sex=Female)'\\\n",
    "  --arch 'conditionalscm_path' \\\n",
    "  --data-seed 42\\\n",
    "  --seed 68 >> 'inference.txt'"
   ]
  }
 ],
 "metadata": {
  "kernelspec": {
   "display_name": "Python 3.9.7 ('flow-scm')",
   "language": "python",
   "name": "python3"
  },
  "language_info": {
   "codemirror_mode": {
    "name": "ipython",
    "version": 3
   },
   "file_extension": ".py",
   "mimetype": "text/x-python",
   "name": "python",
   "nbconvert_exporter": "python",
   "pygments_lexer": "ipython3",
   "version": "3.9.7"
  },
  "vscode": {
   "interpreter": {
    "hash": "8036ffe38d8fad1f1821418199c7d8ff7dc7c0709d2fcb91e441ecd0bc665b90"
   }
  }
 },
 "nbformat": 4,
 "nbformat_minor": 5
}
